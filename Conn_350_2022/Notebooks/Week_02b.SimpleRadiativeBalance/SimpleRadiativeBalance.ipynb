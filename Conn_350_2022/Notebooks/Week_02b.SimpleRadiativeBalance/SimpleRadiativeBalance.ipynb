{
 "cells": [
  {
   "cell_type": "markdown",
   "id": "4ffb7a3e",
   "metadata": {
    "nbgrader": {
     "grade": false,
     "grade_id": "cell-b05570620a93bd73",
     "locked": true,
     "schema_version": 3,
     "solution": false,
     "task": false
    }
   },
   "source": [
    "# Simple Radiative Balance\n",
    "### Neshyba, 2022\n",
    "\n",
    "## Absorbed Solar Radiation\n",
    "The energy responsible for keeping Earth warm comes almost entirely from the Sun. This energy is all \"light\", but humans can see only part of it; of the rest, some comes in the form of ultraviolet light (which we can detect because it burns our skin) and near-infrared light (which is what you are feeling when you hold your hands out in front of a fire). All three forms of light (uv, visible, and near-IR) are collectively called *shortwave radiation*. \n",
    "\n",
    "How intense is shortwave radiation from the sun? It depends on where you are standing. Imagine you were are hovering just outside Earth's atmosphere, armed with a *shortwave radiometer*. What's a shortwave radiometer? It measures the shortwave energy (energy from the sun) passing through a 1 meter x 1 meter hoop. (Real shortwave radiometers aren't actually that big, but they still tell you that key number: the energy intensity of sunlight on a per-meter-squared basis.) Your radiometer would produce a number around $1367 \\ W m^{-2}$. That's almost fourteen 100-Watt light bulbs, for every 1x1 square meter! This number is called the *solar constant*, and symbolized by $S_0$, so we say $S_0=1367 \\ W m^{-2}$. $S_0$ varies a little over the course of a year (and of course is smaller for planets farther from the sun, bigger for planets that are closer), but $1367$ is a good average for us.\n",
    "\n",
    "As it turns out, however, that $1367 \\ W m^{-2}$ doesn't actually make it down to every square meter of Earth's surface below you. There are two reason for this:\n",
    "\n",
    "1. The sun shines only on one side of the planet at a time, and it usually hits Earth's surface at an oblique angle. Turns out, this reduces the energy potentially received by earth by a factor of 4, i.e., we're talking $S_0/4=342 \\ Wm^{-2}$.\n",
    "2. Some of the shortwave doesn't get absorbed even if it does hit Earth's surface. Clouds, snowpacks, desert sand, even forests, are not as efficient at absorbing shortwave as our jet-black square of metal. The overall fraction of reflected shortwave is called Earth's *albedo*, and it's about 30%. The albedo is typically given the symbol $\\alpha$, and it's given as a fraction rather than a percent. So the statement \"Earth's albedo is 30%\" is written mathematically as $\\alpha=0.3$. \n",
    "\n",
    "If we put this all together, we can write down something called the *Absorbed Shortwave Radiation*, which we'll symbolize here as $ASR$. It can be expressed as\n",
    "\n",
    "$$\n",
    "ASR = \\dfrac{S_0}{4}(1-\\alpha) \\ \\ \\ \\ (1)\n",
    "$$\n",
    "\n",
    "Like $S_0$, the units of $ASR$ are $W m^{-2}$. If you plug in the above numbers for $S_0$ and $\\alpha$, you get $ASR=239 \\ W m^{-2}$. That's still a lot if you think about it in terms of light bulbs: it's like there are over two 100-W lightbulbs of sunlight being absorbed by Earth's surface, day and night, everywhere on the planet.\n",
    "\n",
    "\n",
    "## Outgoing Longwave Radiation\n",
    "Imagine now that you are standing at the earth's surface, armed with a *longwave radiometer*. That's an instrument that measures the longwave radiant energy passing through a 1 meter x 1 meter hoop (again, real longwave radiometers aren't that big, but they still give you energy intensity on a per-meter-squared basis). To a good approximation, we'd expect that number to be given by the expression $\\sigma T^4$, where $T$ is the temperature of the ground you're standing on. $\\sigma$ is known as the Stefan-Boltzmann constant, $5.67 \\times 10^{-8} W m^{-2}K^{-4}$. That's just physics, it doesn't depend on climate. \n",
    "\n",
    "For the purpose of radiative balance calculations, however, we need to re-position ourselves back to where we were at the beginning of this story: hovering in space just above Earth's atmosphere. Looking down at the earth's surface, the quantity our longwave radiometer measures now is called the Outgoing Longwave Radiation, or OLR. It will be, it turns out, not quite equal to the $\\sigma T^4$ coming off Earth's surface. Why? Well first, something like 85% of the longwave radiation emitted by Earth's surface gets captured by water vapor, $CO_2$ and $CH_4$ in the atmosphere (they're all *greenhouse gases*). So we'd expect OLR to be reduced to something like 15% of $\\sigma T^4$, right? However, it turns out that *the atmosphere itself emits longwave radiation*. Combining these influences, we can write \n",
    "\n",
    "$$ \n",
    "OLR = \\kappa \\sigma T^4 \\ \\ \\ \\ (2)\n",
    "$$\n",
    "\n",
    "where (as it turns out) $\\kappa=0.614$. \n",
    "\n",
    "(Here's a more technical version of what we just said: Atmospheric greenhouse gases absorb 85% of the longwave photons that originate from Earth's surface, but those same gases emit their own longwave photons. Those longwave photons that are emitted by the atmosphere back down toward the earth's surface are responsible for greenhouse warming. Those longwave photons that are emitted by the atmosphere out to space combine with the 15% of Earth's surface photons that manage to get through the atmosphere unscathed, adding up to 64% of the orignal Stefan-Boltzmann ($\\sigma T^4$) energy intensity coming off the earth's surface. That leads to the expression for the Outgoing Longwave Radiation in Eq. (2), with $\\kappa=0.614$.)\n",
    "\n",
    "\n",
    "## Radiative Balance\n",
    "All this leads to the idea of an algorithm for modeling climate, based on radiative balance. It goes like this: suppose the earth were initially really cold. Then $T$ in Eq. (2) would be small, and that would mean the outgoing longwave radiation, $OLR$, would also be small -- smaller than our ASR of $239 \\ W m^{-2}$ coming in. That means the earth's surface would be experiencing a *positive flux imbalance* -- more energy coming in than going out. What will the earth do then? Well, heat up of course! \n",
    "\n",
    "If you're familiar with trying to boil water on a stovetop, you know that the more water in your pot, the longer it takes to heat up. We say that two gallons of water have twice the *heat capacity* as one gallon. The relevance of heat capacity to our climate model is, even when there's a positive flux imbalance, it would still take time to heat up. We can even write an equation for this:\n",
    "\n",
    "$$\n",
    "\\Delta T = \\dfrac{ASR-OLR}{C_p}\\times \\Delta t \\ \\ \\ \\ (3)\n",
    "$$\n",
    "\n",
    "where $\\Delta T$ is the change in temperature of the earth's surface, and $C_P$ is our symbol for the heat capacity -- in our model, the heat capacity of a square meter of the average Earth's surface. It turns out that this second number is known: $C_P\\approx 2.2\\times 10^8 \\ J \\ m^{-2}K^{-1}$. And notice that it's in the denominator -- which means larger heat capacity means smaller change in temperature. Another term in this equation worth noticing is $ASR-OLR$. $ASR-OLR$ is likely to be positive when the earth is cold (because Eq. (2) says $OLR$ will be small), which means there would be a positive flux difference, which would mean $\\Delta T>0$ (i.e. the temperature of the earth will *rise*). \n",
    "\n",
    "You can imagine the opposite process when Earth's temperature is initially very high. \n",
    "\n",
    "We haven't mentioned the factor $\\Delta t$ yet. The lower case means we're talking about time, not temperature. And hopefully its appearance in Eq. (3) is fairly intuitive: the longer you heat something (bigger $\\Delta t$), the more it will heat up (bigger $\\Delta T$).\n",
    "\n",
    "Equation (3) is the key equation in our model. It allows us to start with a given temperature, $T$, then march through time, at each time step either raising the temperature or lowering it, according to whether $ASR-OLR$ is positive or negative. In \"pseudo-code\", we could say we have a loop:\n",
    "\n",
    "    while (Delta_T is big):\n",
    "        calculate OLR from the current temperature using Eq. (2)\n",
    "        calculate Delta_T from Eq. (3)\n",
    "        update temperature using T(new) = T(old) + Delta_T\n",
    "\n",
    "where Delta_T is what we've written here, mathematically, as $\\Delta T$. Why is the condition that we keep going as long as Delta_T is big? Well, there's no point in continuing on if there's no change in temperature, right? In fact, what you'll see is that the temperature calculated in this way evolves toward a *steady-state* value. If Earth is initially too cold, it gets warmer; if it's too hot, it cools down. That means it's not just any old steady state, it's a *stable* steady state.\n",
    "\n",
    "\n",
    "## Climate sensitivity to changes in albedo\n",
    "It turns out that in modeling the climate, a key thing one looks for is what's called the *climate sensitivity*. For example, we could say\n",
    "\n",
    "$$\n",
    "S = \\dfrac {\\Delta T}{\\Delta \\alpha} \\ \\ \\ \\ (4)\n",
    "$$\n",
    "\n",
    "where $S$ is the sensitivity of Earth's temperature to its albedo ($\\alpha$). To find this number from our model, we'd need to run the model once with a \"reference\" value of the albedo, and then again with a new value of the albedo. We'll call the difference in these two albedos $\\alpha_1$, and the difference in the resulting temperatures  $\\Delta T$. From that, we can use Eq. (4) to calculate the climate sensitivity, $S$.\n",
    "\n",
    "In the code below, you'll do this, and then use the resulting value of $S$ to predict the impact some new albiedo might have on the temperature of the planet -- details to be given below.\n",
    "\n",
    "## Caveats\n",
    "The model described here ignores a key feature of climate called *feedbacks*. For example, if lots of snow melts because of higher temperatures (which it will do), Earth's albedo will go down, which will cause Earth's temperature to rise, which will cause more snow to melt: a positive feedback. But that's a challenge for another day.\n",
    "\n",
    "\n",
    "## Learning Goals\n",
    "1. Explain the main players involved in planetary radiative balance (i.e., absorbed shortwave radiation, $ASR$, vs  outgoing longwave radiation, $OLR$), and how they are determined by the temperature of the planet. \n",
    "1. Explain what it means to say that, in the absences of feedbacks, this model exhibits a stable steady-state temperature.\n",
    "1. Explain what a climate sensitivity is, using albedo as an example (and how to calculate it)."
   ]
  },
  {
   "cell_type": "code",
   "execution_count": 10,
   "id": "f298a3bc",
   "metadata": {
    "nbgrader": {
     "grade": false,
     "grade_id": "cell-8f0108199324fbfb",
     "locked": true,
     "schema_version": 3,
     "solution": false,
     "task": false
    }
   },
   "outputs": [],
   "source": [
    "import numpy as np\n",
    "import matplotlib.pyplot as plt"
   ]
  },
  {
   "cell_type": "code",
   "execution_count": 11,
   "id": "71ee3765",
   "metadata": {
    "nbgrader": {
     "grade": false,
     "grade_id": "cell-0e77b9581fad1efc",
     "locked": true,
     "schema_version": 3,
     "solution": false,
     "task": false
    }
   },
   "outputs": [],
   "source": [
    "%matplotlib inline"
   ]
  },
  {
   "cell_type": "markdown",
   "id": "808ccbc0",
   "metadata": {
    "nbgrader": {
     "grade": false,
     "grade_id": "cell-344f86e9f6412418",
     "locked": true,
     "schema_version": 3,
     "solution": false,
     "task": false
    }
   },
   "source": [
    "### Model Definition\n",
    "The parameters in this cell don't need to be changed from run to run (unless you want to change the model)."
   ]
  },
  {
   "cell_type": "code",
   "execution_count": 12,
   "id": "c109402b",
   "metadata": {},
   "outputs": [],
   "source": [
    "def SRB(temperature_start,alpha):\n",
    "\n",
    "    # Some constants\n",
    "    solar_constant=342  # in units W m^-2\n",
    "    kappa=0.614         # dimensionless\n",
    "    sigma=5.67e-8       # in units W m^-2 K^-4\n",
    "    heat_capacity=2.2e8 # in units J m^-2 K^-1\n",
    "    \n",
    "    # Time step parameters\n",
    "    delta_time_years = .1    # Number of years for each time step\n",
    "    delta_time = delta_time_years*24*60*60*365 # This converts the time step to seconds\n",
    "    \n",
    "    # Loop control \n",
    "    small_enough = 0.001\n",
    "    delta_temp = 1000\n",
    "\n",
    "    # Emergency exit parameter\n",
    "    maximum_steps = 10000\n",
    "\n",
    "    # Initializing the arrays that will contain our results\n",
    "    temperature_list = [temperature_start]\n",
    "    time_list = [0]\n",
    "    fluxdiff_list = [0]\n",
    "\n",
    "    # Looping\n",
    "    while abs(delta_temp) > small_enough:\n",
    "\n",
    "        # Let's extract the latest temperature and time\n",
    "        temperature = temperature_list[-1]\n",
    "        time = time_list[-1]\n",
    "\n",
    "        # Outgoing longwave radiation (Wm^{-2})\n",
    "        OLR=kappa*sigma*temperature**4\n",
    "\n",
    "        # Absorbed solar radiation (also Wm^{-2})\n",
    "        ASR=(1-alpha)*solar_constant\n",
    "\n",
    "        # Flux difference (also Wm^{-2})\n",
    "        fluxdiff=ASR-OLR\n",
    "\n",
    "        # What's the temperature adjustment this time period?\n",
    "        delta_temp = fluxdiff/heat_capacity*delta_time\n",
    "\n",
    "        # Adjust Earth's temperature for this step\n",
    "        newtemperature = temperature + delta_temp\n",
    "        newtime = time + delta_time_years\n",
    "\n",
    "        # Add to our list of temperatures and times\n",
    "        temperature_list.append(newtemperature) \n",
    "        time_list.append(newtime)\n",
    "        fluxdiff_list.append(fluxdiff)\n",
    "\n",
    "        # Emergency exit\n",
    "        if (len(time_list)>maximum_steps):\n",
    "            break\n",
    "            \n",
    "    return time_list[1:], fluxdiff_list[1:], temperature_list[1:]"
   ]
  },
  {
   "cell_type": "markdown",
   "id": "a5b7d90d",
   "metadata": {},
   "source": [
    "### Pause for analysis\n",
    "Spend a little time getting to know this function:\n",
    "1. What is the physical meaning of the condition that stops the \"while\" loop? (Not talking about the emergency exit.)\n",
    "1. There is one quantity that is calculated in the loop, that doesn't need to be in the loop, since it could easily, and more efficiently, be calculated before the loop begins. Which quantity is that?"
   ]
  },
  {
   "cell_type": "markdown",
   "id": "03e6866b",
   "metadata": {
    "nbgrader": {
     "grade": true,
     "grade_id": "cell-db0d20fed7b6fdf4",
     "locked": false,
     "points": 2,
     "schema_version": 3,
     "solution": true,
     "task": false
    }
   },
   "source": []
  },
  {
   "cell_type": "markdown",
   "id": "b9f40f6f",
   "metadata": {
    "nbgrader": {
     "grade": false,
     "grade_id": "cell-5b53e8dc63bffaff",
     "locked": true,
     "schema_version": 3,
     "solution": false,
     "task": false
    }
   },
   "source": [
    "### Experiment 1\n",
    "Run the cell below to see how the model responds to an initial temperature of 200 degrees K and an albedo of 0.3."
   ]
  },
  {
   "cell_type": "code",
   "execution_count": 13,
   "id": "c83ac91c",
   "metadata": {
    "nbgrader": {
     "grade": false,
     "grade_id": "cell-31690264fcad873f",
     "locked": true,
     "schema_version": 3,
     "solution": false,
     "task": false
    }
   },
   "outputs": [
    {
     "data": {
      "image/png": "[encoded data removed]",
      "text/plain": [
       "<Figure size 432x288 with 1 Axes>"
      ]
     },
     "metadata": {
      "needs_background": "light"
     },
     "output_type": "display_data"
    },
    {
     "data": {
      "image/png": "[encoded data removed]",
      "text/plain": [
       "<Figure size 432x288 with 1 Axes>"
      ]
     },
     "metadata": {
      "needs_background": "light"
     },
     "output_type": "display_data"
    }
   ],
   "source": [
    "# Experiment 1\n",
    "\n",
    "# Run the model\n",
    "time_list_expt1, fluxdiff_list_expt1, temperature_list_expt1 = SRB(200,0.3)\n",
    "\n",
    "# Plot the flux differences\n",
    "plt.figure()\n",
    "plt.plot(time_list_expt1,fluxdiff_list_expt1,'black')\n",
    "plt.xlabel('time (years)')\n",
    "plt.ylabel('Flux difference (W/m^2)')\n",
    "plt.title('Experiment 1')\n",
    "plt.grid(True)\n",
    "\n",
    "# Plot the temperatures\n",
    "plt.figure()\n",
    "plt.plot(time_list_expt1,temperature_list_expt1,'black')\n",
    "plt.xlabel('time (years)')\n",
    "plt.ylabel('temperature (K)')\n",
    "plt.title('Experiment 1')\n",
    "plt.grid(True)"
   ]
  },
  {
   "cell_type": "markdown",
   "id": "434abfea",
   "metadata": {
    "nbgrader": {
     "grade": false,
     "grade_id": "cell-c0a20242c279206b",
     "locked": true,
     "schema_version": 3,
     "solution": false,
     "task": false
    }
   },
   "source": [
    "### Pause for analysis\n",
    "In the cell below, write a few descriptive sentences about this:\n",
    "1. Is the initial flux positive or negative?\n",
    "1. Is the temperature initially rising or falling?\n",
    "1. What does it mean, physically, that the flux difference levels off to a value of zero?"
   ]
  },
  {
   "cell_type": "markdown",
   "id": "7151e48a",
   "metadata": {
    "nbgrader": {
     "grade": true,
     "grade_id": "cell-2cd4152189d81b68",
     "locked": false,
     "points": 3,
     "schema_version": 3,
     "solution": true,
     "task": false
    }
   },
   "source": []
  },
  {
   "cell_type": "markdown",
   "id": "2421d8ea",
   "metadata": {
    "nbgrader": {
     "grade": false,
     "grade_id": "cell-0fc8e360df5f3435",
     "locked": true,
     "schema_version": 3,
     "solution": false,
     "task": false
    }
   },
   "source": [
    "### Your turn\n",
    "Carry out two more numerical experiments: \n",
    "- In the first cell below, carry out \"Experiment 2\". This experiment should have a starting temperature around 250 K. In your graph, use a blue line.\n",
    "- In the following cell, carry out \"Experiment 3\". This experiment should have a starting temperature of around 350 K. In your graph, use a red line."
   ]
  },
  {
   "cell_type": "code",
   "execution_count": 14,
   "id": "224ce2a7",
   "metadata": {
    "nbgrader": {
     "grade": true,
     "grade_id": "cell-9dd6f2e7bcca47af",
     "locked": false,
     "points": 3,
     "schema_version": 3,
     "solution": true,
     "task": false
    }
   },
   "outputs": [
    {
     "data": {
      "image/png": "[encoded data removed]",
      "text/plain": [
       "<Figure size 432x288 with 1 Axes>"
      ]
     },
     "metadata": {
      "needs_background": "light"
     },
     "output_type": "display_data"
    },
    {
     "data": {
      "image/png": "[encoded data removed]",
      "text/plain": [
       "<Figure size 432x288 with 1 Axes>"
      ]
     },
     "metadata": {
      "needs_background": "light"
     },
     "output_type": "display_data"
    }
   ],
   "source": [
    "# Experiment 2\n",
    "\n",
    "# Run the model\n",
    "### BEGIN SOLUTION\n",
    "time_list_expt2, fluxdiff_list_expt2, temperature_list_expt2 = SRB(250,0.3)\n",
    "### END SOLUTION\n",
    "\n",
    "# Plot the flux differences\n",
    "### BEGIN SOLUTION\n",
    "plt.figure()\n",
    "plt.plot(time_list_expt2,fluxdiff_list_expt2,'blue')\n",
    "plt.xlabel('time (years)')\n",
    "plt.ylabel('Flux difference (W/m^2)')\n",
    "plt.grid(True)\n",
    "plt.title('Experiment 2')\n",
    "### END SOLUTION\n",
    "\n",
    "# Plot the temperatures\n",
    "### BEGIN SOLUTION\n",
    "plt.figure()\n",
    "plt.plot(time_list_expt2,temperature_list_expt2,'blue')\n",
    "plt.xlabel('time (years)')\n",
    "plt.ylabel('temperature (K)')\n",
    "plt.grid(True)\n",
    "### END SOLUTION"
   ]
  },
  {
   "cell_type": "code",
   "execution_count": 15,
   "id": "d6ce0c44",
   "metadata": {
    "nbgrader": {
     "grade": true,
     "grade_id": "cell-e4eee6497cc8a54a",
     "locked": false,
     "points": 3,
     "schema_version": 3,
     "solution": true,
     "task": false
    }
   },
   "outputs": [
    {
     "data": {
      "image/png": "[encoded data removed]",
      "text/plain": [
       "<Figure size 432x288 with 1 Axes>"
      ]
     },
     "metadata": {
      "needs_background": "light"
     },
     "output_type": "display_data"
    },
    {
     "data": {
      "image/png": "[encoded data removed]",
      "text/plain": [
       "<Figure size 432x288 with 1 Axes>"
      ]
     },
     "metadata": {
      "needs_background": "light"
     },
     "output_type": "display_data"
    }
   ],
   "source": [
    "# Experiment 3\n",
    "\n",
    "# Run the model\n",
    "### BEGIN SOLUTION\n",
    "time_list_expt3, fluxdiff_list_expt3, temperature_list_expt3 = SRB(350,0.3)\n",
    "### END SOLUTION\n",
    "\n",
    "# Plot the flux differences\n",
    "### BEGIN SOLUTION\n",
    "plt.figure()\n",
    "plt.plot(time_list_expt3,fluxdiff_list_expt3,'red')\n",
    "plt.xlabel('time (years)')\n",
    "plt.ylabel('Flux difference (W/m^2)')\n",
    "plt.grid(True)\n",
    "plt.title('Experiment 2')\n",
    "### END SOLUTION\n",
    "\n",
    "# Plot the temperatures\n",
    "### BEGIN SOLUTION\n",
    "plt.figure()\n",
    "plt.plot(time_list_expt3,temperature_list_expt3,'red')\n",
    "plt.xlabel('time (years)')\n",
    "plt.ylabel('temperature (K)')\n",
    "plt.grid(True)\n",
    "### END SOLUTION"
   ]
  },
  {
   "cell_type": "markdown",
   "id": "465974a9",
   "metadata": {
    "nbgrader": {
     "grade": false,
     "grade_id": "cell-82bd91fcf8177d85",
     "locked": true,
     "schema_version": 3,
     "solution": false,
     "task": false
    }
   },
   "source": [
    "### Your turn (again)\n",
    "Assuming you've given your results unique names, plot all three temperature differences on the same graph."
   ]
  },
  {
   "cell_type": "code",
   "execution_count": 16,
   "id": "cff1bea8",
   "metadata": {
    "nbgrader": {
     "grade": true,
     "grade_id": "cell-f206156e389e3962",
     "locked": false,
     "points": 1,
     "schema_version": 3,
     "solution": true,
     "task": false
    }
   },
   "outputs": [
    {
     "data": {
      "image/png": "[encoded data removed]",
      "text/plain": [
       "<Figure size 432x288 with 1 Axes>"
      ]
     },
     "metadata": {
      "needs_background": "light"
     },
     "output_type": "display_data"
    }
   ],
   "source": [
    "### BEGIN SOLUTION\n",
    "# Plot the temperatures\n",
    "plt.figure()\n",
    "plt.plot(time_list_expt1,temperature_list_expt1,'black')\n",
    "plt.plot(time_list_expt2,temperature_list_expt2,'blue')\n",
    "plt.plot(time_list_expt3,temperature_list_expt3,'red')\n",
    "plt.xlabel('time (years)')\n",
    "plt.ylabel('temperature (K)')\n",
    "plt.grid(True)\n",
    "\n",
    "### END SOLUTION"
   ]
  },
  {
   "cell_type": "markdown",
   "id": "b3469650",
   "metadata": {
    "nbgrader": {
     "grade": false,
     "grade_id": "cell-10825d13a0851915",
     "locked": true,
     "schema_version": 3,
     "solution": false,
     "task": false
    }
   },
   "source": [
    "### Pause for analysis\n",
    "In the cell below, respond to this question:\n",
    "- How do these ending temperatures compare with the observed planetary temperature (see, e.g., https://www.encyclopedie-environnement.org/en/climate/average-temperature-earth/)? "
   ]
  },
  {
   "cell_type": "markdown",
   "id": "8f0ac8e0",
   "metadata": {
    "nbgrader": {
     "grade": true,
     "grade_id": "cell-58a120285fb0846f",
     "locked": false,
     "points": 2,
     "schema_version": 3,
     "solution": true,
     "task": false
    }
   },
   "source": []
  },
  {
   "cell_type": "markdown",
   "id": "2c34205e",
   "metadata": {
    "nbgrader": {
     "grade": false,
     "grade_id": "cell-9a46a6c12ec15bf1",
     "locked": true,
     "schema_version": 3,
     "solution": false,
     "task": false
    }
   },
   "source": [
    "### Your challenge - Climate sensitivity\n",
    "Here, we'd like to see how the steady-state temperature depends on the albedo. In order to calculate it, we could go about it in the following way. First, specify a new value of the albedo. For example, you could set up Experiment #4, with $\\alpha=0.4$. Then, since Experiment #3 used $\\alpha=0.3$, we could say\n",
    "\n",
    "$$\n",
    "\\Delta \\alpha = 0.1\n",
    "$$\n",
    "\n",
    "When you run Experiment #4, you'll get a different steady-state temperature, of course. If we said $T_4$ is that temperature, and $T_3$ was the steady-state temperature you got in experiment #3, you could find the change in temperature resulting from the change in albedo by calculating\n",
    "\n",
    "$$\n",
    "\\Delta T = T_4-T_3\n",
    "$$\n",
    "\n",
    "Of course, the bigger the change in the albedo, the bigger we expect $\\Delta T$ to be. What's key, therefore, is the ratio, $\\dfrac {\\Delta T}{\\Delta \\alpha}$. As described in the Introduction, this is called the *climate sensitivity* to changes in albedo. Doing this in Python, it will be helpful to create a variable holding this value, with a line like the following:\n",
    "\n",
    "    sensitivity = delta_T/delta_alpha\n",
    "\n",
    "Note that the sign of the sensitivity is important here: if you get a negative number, you're probably on track. "
   ]
  },
  {
   "cell_type": "code",
   "execution_count": 25,
   "id": "af9b2ad6",
   "metadata": {
    "nbgrader": {
     "grade": true,
     "grade_id": "cell-5a3bfe8ad56e6615",
     "locked": false,
     "points": 3,
     "schema_version": 3,
     "solution": true,
     "task": false
    }
   },
   "outputs": [
    {
     "name": "stdout",
     "output_type": "stream",
     "text": [
      "The temperature sensitivity (to changes in albedo) is -108.88877178022824\n"
     ]
    },
    {
     "data": {
      "image/png": "[encoded data removed]",
      "text/plain": [
       "<Figure size 432x288 with 1 Axes>"
      ]
     },
     "metadata": {
      "needs_background": "light"
     },
     "output_type": "display_data"
    }
   ],
   "source": [
    "### BEGIN SOLUTION\n",
    "# Run the models for two different albedo values\n",
    "time_list_expt3, fluxdiff_list_expt3, temperature_list_expt3 = SRB(200,0.3)\n",
    "time_list_expt4, fluxdiff_list_expt4, temperature_list_expt4 = SRB(200,0.4)\n",
    "\n",
    "plt.figure()\n",
    "plt.plot(time_list_expt3,temperature_list_expt3,'red')\n",
    "plt.plot(time_list_expt4,temperature_list_expt4,'blue')\n",
    "plt.xlabel('time (years)')\n",
    "plt.grid(True)\n",
    "plt.ylabel('temperature (K)')\n",
    "plt.legend(['alpha=0.3','alpha=0.4'])\n",
    "\n",
    "# Calculate differences\n",
    "delta_T = temperature_list_expt4[-1]-temperature_list_expt3[-1]\n",
    "delta_alpha = 0.1\n",
    "\n",
    "# Calculate the climate sensitivity\n",
    "sensitivity = delta_T/delta_alpha\n",
    "print(\"The temperature sensitivity (to changes in albedo) is\", sensitivity)\n",
    "### END SOLUTION"
   ]
  },
  {
   "cell_type": "markdown",
   "id": "3ee8a011",
   "metadata": {
    "nbgrader": {
     "grade": false,
     "grade_id": "cell-2aa5604c0cc76630",
     "locked": true,
     "schema_version": 3,
     "solution": false,
     "task": false
    }
   },
   "source": [
    "### Pause for analysis\n",
    "Some climate change predictions indicate Earth's albedo could drop from $0.3$ to $0.29$ -- a change in albedo of $-0.01$ -- by the year 2100, because of melting of ice and snow in polar regions. What would be the impact on temperature resulting from that change in albedo?\n",
    "\n",
    "You can use the sensitivity result you just got to predict this impact. Here's how: if you solve Eq. (4) for $\\Delta T$, you get\n",
    "\n",
    "$$\n",
    "\\Delta T_{new} = S \\ \\Delta \\alpha_{new}\n",
    "$$\n",
    "\n",
    "where we've renamed the change in albedo to $\\Delta \\alpha_{new}$ In the case just described, for example, the corresponding Python code could look like\n",
    "\n",
    "    deltaTnew = sensitivity*(-0.01)\n",
    "\n",
    "We would understand the resulting change in temperature to be the impact on temperature resulting from a drop in albedo from $0.3$ to $0.29$. Don't forget that the sign is important: $\\Delta T_{new}>0$ would mean the change in albedo caused a warming, while $\\Delta T_{new}<0$ would mean the change in albedo caused a cooling."
   ]
  },
  {
   "cell_type": "code",
   "execution_count": 18,
   "id": "99a01048",
   "metadata": {
    "nbgrader": {
     "grade": true,
     "grade_id": "cell-c24e5c47070b61ec",
     "locked": false,
     "points": 2,
     "schema_version": 3,
     "solution": true,
     "task": false
    }
   },
   "outputs": [
    {
     "name": "stdout",
     "output_type": "stream",
     "text": [
      "1.0888877178022824\n"
     ]
    }
   ],
   "source": [
    "### BEGIN SOLUTION\n",
    "impact = sensitivity*(-.01)\n",
    "print(impact)\n",
    "### END SOLUTION"
   ]
  },
  {
   "cell_type": "markdown",
   "id": "437c38a3",
   "metadata": {
    "nbgrader": {
     "grade": false,
     "grade_id": "cell-84137412c25de25e",
     "locked": true,
     "schema_version": 3,
     "solution": false,
     "task": false
    }
   },
   "source": [
    "### Refresh/save/validate\n",
    "Almost done! To double-check everything is OK, repeat the \"Three steps for refreshing and saving your code,\" and press the \"Validate\" button (as usual).\n",
    "\n",
    "### Close/submit/logout\n",
    "1. Close this notebook using the \"File/Close and Halt\" dropdown menu\n",
    "1. Using the Assignments tab, submit this notebook\n",
    "1. Press the Logout tab of the Home Page"
   ]
  }
 ],
 "metadata": {
  "celltoolbar": "Create Assignment",
  "kernelspec": {
   "display_name": "Python 3 (ipykernel)",
   "language": "python",
   "name": "python3"
  },
  "language_info": {
   "codemirror_mode": {
    "name": "ipython",
    "version": 3
   },
   "file_extension": ".py",
   "mimetype": "text/x-python",
   "name": "python",
   "nbconvert_exporter": "python",
   "pygments_lexer": "ipython3",
   "version": "3.10.2"
  }
 },
 "nbformat": 4,
 "nbformat_minor": 5
}
