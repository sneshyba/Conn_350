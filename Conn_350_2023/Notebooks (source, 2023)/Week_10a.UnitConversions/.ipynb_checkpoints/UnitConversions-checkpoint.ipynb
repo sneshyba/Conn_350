{
 "cells": [
  {
   "cell_type": "markdown",
   "metadata": {
    "nbgrader": {
     "grade": false,
     "grade_id": "cell-2fbedee8455c6341",
     "locked": true,
     "schema_version": 3,
     "solution": false,
     "task": false
    }
   },
   "source": [
    "### Computational Guided Inquiry for Modeling Earth's Climate (Neshyba, 2023)\n",
    "\n",
    "## Unit conversions with *pint*\n",
    "The goal of this module is to introduce you to a super-handy unit manipulation package called *pint*.\n",
    "\n",
    "### Units vs dimensions\n",
    "Units are always a bit of a bother in, well, *all* quantitative sciences. But a package called *pint* can help quite a lot. For one, it has a ton of built-in conversions, and it is easy to convert from one unit to another. But a more important point is that this kind of tool takes the focus off units, and puts it on the *dimensions* of the quantities you're dealing with, which is arguably more fundamental.   \n",
    "\n",
    "### Climate context\n",
    "To have something to familiar work with, we'll be using math around the idea of Outgoing Longwave Radiation (*OLR*) that we considered previously. As a reminder: we imagine that we are standing above the earth's surface (like on a satellite), armed with a *longwave radiometer*. Looking down at the earth's surface, the quantity our longwave radiometer will measure can be predicted by the formula \n",
    "\n",
    "$$ \n",
    "OLR = \\kappa \\sigma T^4 \\ \\ \\ \\ (1)\n",
    "$$\n",
    "\n",
    "where $T$ is the temperature of Earth's surface, $\\sigma$ is called the *Stefan-Boltzmann* constant, and $\\kappa$ is a dimensionless value related to how Earth's atmosphere intercepts longwave radiation emitted by Earth's surface.\n",
    "\n",
    "### e-format convention for entering numbers that are very big and very small\n",
    "When working with real geophysical data, it's important to get used to entering numbers in scientific notation using the *e-format convention*. For example, the Stefan-Boltzmann's constant, $\\sigma=5.67 \\times 10^{-8} {J \\over m^2 K^4}$, would be entered using the e-format notation as \"5.67e-8\" (the \"e\" can be \"E\", by the way; it's not case-sensitive).\n",
    "\n",
    "### Learning goals\n",
    "The main learning goals of this exercise can be phrased follows. \n",
    "1. I'm familiar with key aspects of *pint*, e.g., specifying quantities with units, and using the \".ito\" syntax for conversions.\n",
    "1. I can enter numbers in scientific notation using the e-format convention.\n",
    "1. I can print using f-string syntax."
   ]
  },
  {
   "cell_type": "code",
   "execution_count": 1,
   "metadata": {
    "nbgrader": {
     "grade": false,
     "grade_id": "cell-46fce2670e3e56be",
     "locked": true,
     "schema_version": 3,
     "solution": false,
     "task": false
    }
   },
   "outputs": [],
   "source": [
    "from pint import UnitRegistry; AssignQuantity = UnitRegistry().Quantity"
   ]
  },
  {
   "cell_type": "markdown",
   "metadata": {
    "nbgrader": {
     "grade": false,
     "grade_id": "cell-a640f3273799cd1e",
     "locked": true,
     "schema_version": 3,
     "solution": false,
     "task": false
    }
   },
   "source": [
    "### e-format notation\n",
    "To have something to familiar work with, we'll start with the notion of Outgoing Longwave Radiation (*OLR*) we considered previously. Imagine that you are standing above the earth's surface (like on a satellite), armed with a *longwave radiometer*, which is an instrument that measures the radiant energy passing through a 1 meter x 1 meter hoop. Looking down at the earth's surface, the quantity our longwave radiometer will measure can be predicted by the formula \n",
    "\n",
    "$$ \n",
    "OLR = \\kappa \\sigma T^4 \\ \\ \\ \\ (1)\n",
    "$$\n",
    "\n",
    "where $T$ is the temperature of Earth's surface, $\\sigma$ is a constant of nature, and $\\kappa$ is a dimensionless constant related to the longwave radiation emitted by Earth's surface that gets captured by greenhouse gases in Earth's atmosphere ($\\kappa=0.614$). In the cell below, we define the latter using the e-format notation."
   ]
  },
  {
   "cell_type": "code",
   "execution_count": 2,
   "metadata": {
    "nbgrader": {
     "grade": false,
     "grade_id": "cell-e558333a248ec15c",
     "locked": true,
     "schema_version": 3,
     "solution": false,
     "task": false
    }
   },
   "outputs": [
    {
     "name": "stdout",
     "output_type": "stream",
     "text": [
      "0.614\n"
     ]
    }
   ],
   "source": [
    "kappa = 6.14e-1\n",
    "print(kappa)"
   ]
  },
  {
   "cell_type": "markdown",
   "metadata": {
    "nbgrader": {
     "grade": false,
     "grade_id": "cell-8d3bf45455fbe8ed",
     "locked": true,
     "schema_version": 3,
     "solution": false,
     "task": false
    }
   },
   "source": [
    "### Your turn\n",
    "Now define $\\sigma=5.67 \\times 10^{-8}$ (you can call the variable \"sigma\") using the e-format notation. Also, for practice, define $c=3\\times 10^8$ (and call it \"c\")."
   ]
  },
  {
   "cell_type": "code",
   "execution_count": 3,
   "metadata": {
    "nbgrader": {
     "grade": true,
     "grade_id": "cell-fd78f9079913dbed",
     "locked": false,
     "points": 2,
     "schema_version": 3,
     "solution": true,
     "task": false
    }
   },
   "outputs": [],
   "source": [
    "### BEGIN SOLUTION\n",
    "sigma = 5.67e-8\n",
    "c = 3e8\n",
    "### END SOLUTION"
   ]
  },
  {
   "cell_type": "markdown",
   "metadata": {
    "nbgrader": {
     "grade": false,
     "grade_id": "cell-3ef4656de74397d0",
     "locked": true,
     "schema_version": 3,
     "solution": false,
     "task": false
    }
   },
   "source": [
    "### Defining variables with units\n",
    "In the cell below, we use *pint's* AssignQuantity function to define $c$ as a variable with units."
   ]
  },
  {
   "cell_type": "code",
   "execution_count": 4,
   "metadata": {
    "nbgrader": {
     "grade": false,
     "grade_id": "cell-6da8c33f740a1e3d",
     "locked": true,
     "schema_version": 3,
     "solution": false,
     "task": false
    }
   },
   "outputs": [
    {
     "name": "stdout",
     "output_type": "stream",
     "text": [
      "300000000.0 meter / second\n"
     ]
    }
   ],
   "source": [
    "c = AssignQuantity(3e8,'m/s')\n",
    "print(c)"
   ]
  },
  {
   "cell_type": "markdown",
   "metadata": {
    "nbgrader": {
     "grade": false,
     "grade_id": "cell-35dde58a42ff8a06",
     "locked": true,
     "schema_version": 3,
     "solution": false,
     "task": false
    }
   },
   "source": [
    "### Your turn\n",
    "Now use AssignQuantity to define $\\sigma=5.67 \\times 10^{-8} {W \\over m^2 K^4}$ as a variable with units (call it \"sigma\" again). While you're at it, do this too:\n",
    "\n",
    "- Use AssignQuantity to define $T=287 K$, the average temperature of the earth in pre-industrial times (call it \"T\");\n",
    "- Use AssignQuantity to define $m=1.67 \\times 10^{-24} g$, the mass of a proton (and call it \"m\"). \n",
    "\n",
    "Print all three variables."
   ]
  },
  {
   "cell_type": "code",
   "execution_count": 5,
   "metadata": {
    "nbgrader": {
     "grade": true,
     "grade_id": "cell-9acffd7673159c0a",
     "locked": false,
     "points": 3,
     "schema_version": 3,
     "solution": true,
     "task": false
    }
   },
   "outputs": [
    {
     "name": "stdout",
     "output_type": "stream",
     "text": [
      "5.67e-08 watt / kelvin ** 4 / meter ** 2\n",
      "287 kelvin\n",
      "1.67e-24 gram\n"
     ]
    }
   ],
   "source": [
    "### BEGIN SOLUTION\n",
    "sigma = AssignQuantity(5.67e-8,'W/(m^2 K^4)'); print(sigma)\n",
    "T = AssignQuantity(287,'K'); print(T)\n",
    "m = AssignQuantity(1.67e-24,'g'); print(m)\n",
    "### END SOLUTION"
   ]
  },
  {
   "cell_type": "markdown",
   "metadata": {
    "nbgrader": {
     "grade": false,
     "grade_id": "cell-1ed4e19e189e9675",
     "locked": true,
     "schema_version": 3,
     "solution": false,
     "task": false
    }
   },
   "source": [
    "### Unit conversions\n",
    "The cell below shows how to convert a quantity that has units, to other units."
   ]
  },
  {
   "cell_type": "code",
   "execution_count": 6,
   "metadata": {
    "nbgrader": {
     "grade": false,
     "grade_id": "cell-93cce7126f6657c9",
     "locked": true,
     "schema_version": 3,
     "solution": false,
     "task": false
    }
   },
   "outputs": [
    {
     "name": "stdout",
     "output_type": "stream",
     "text": [
      "671080887.6163206 mile / hour\n"
     ]
    }
   ],
   "source": [
    "c.ito('miles/hour')\n",
    "print(c)"
   ]
  },
  {
   "cell_type": "markdown",
   "metadata": {
    "nbgrader": {
     "grade": false,
     "grade_id": "cell-3ffcdceda75e735a",
     "locked": true,
     "schema_version": 3,
     "solution": false,
     "task": false
    }
   },
   "source": [
    "### Your turn\n",
    "Use the \".ito\" syntax to convert your value of $\\sigma$ to ${W \\over cm^2 K^4}$. Then convert it back to ${W \\over m^2 K^4}$."
   ]
  },
  {
   "cell_type": "code",
   "execution_count": 7,
   "metadata": {
    "nbgrader": {
     "grade": true,
     "grade_id": "cell-8c73063daf2b2b7a",
     "locked": false,
     "points": 2,
     "schema_version": 3,
     "solution": true,
     "task": false
    }
   },
   "outputs": [
    {
     "name": "stdout",
     "output_type": "stream",
     "text": [
      "5.67e-12 watt / centimeter ** 2 / kelvin ** 4\n",
      "5.67e-08 watt / kelvin ** 4 / meter ** 2\n"
     ]
    }
   ],
   "source": [
    "# Convert to cal/(m**2 K**4), and print the result\n",
    "### BEGIN SOLUTION\n",
    "sigma.ito('W/(cm**2 K**4)'); print(sigma)\n",
    "### END SOLUTION\n",
    "\n",
    "# Convert back to joules/(m**2 K**4), and print the result\n",
    "### BEGIN SOLUTION\n",
    "sigma.ito('W/(m**2 K**4)'); print(sigma)\n",
    "### END SOLUTION"
   ]
  },
  {
   "cell_type": "markdown",
   "metadata": {
    "nbgrader": {
     "grade": false,
     "grade_id": "cell-6fd13459c424b8bd",
     "locked": true,
     "schema_version": 3,
     "solution": false,
     "task": false
    }
   },
   "source": [
    "### Calculating with variables that have units\n",
    "If you calculate a number that has units, the result has units too! Assuming you've defined the mass as Python variable \"m\", and the speed of light as Python variable \"c\", the cell below computes the energy released when a proton's mass is converted into energy according to Einstein's $E=mc^2$. You'll notice that the first result has crazy units, but then we convert to the more conventional enery unit of Joules."
   ]
  },
  {
   "cell_type": "code",
   "execution_count": 8,
   "metadata": {},
   "outputs": [
    {
     "name": "stdout",
     "output_type": "stream",
     "text": [
      "7.520837613989276e-07 gram * mile ** 2 / hour ** 2\n",
      "1.503e-10 joule\n"
     ]
    }
   ],
   "source": [
    "E = m*c**2; print(E)\n",
    "E.ito('J'); print(E)"
   ]
  },
  {
   "cell_type": "markdown",
   "metadata": {
    "nbgrader": {
     "grade": false,
     "grade_id": "cell-9ee6e548b9bbe53a",
     "locked": true,
     "schema_version": 3,
     "solution": false,
     "task": false
    }
   },
   "source": [
    "### Predicting units\n",
    "According to Eq. 1 in the Introduction, *OLR* is the product of three quantities: $\\kappa$, $\\sigma$, and $T^4$. In the cell below, enter what you think the units of *OLR* should be, given that $\\kappa$ is dimensionless, $\\sigma$ has units ${J \\over m^2 K^4}$, and $T$ has units $K$."
   ]
  },
  {
   "cell_type": "markdown",
   "metadata": {
    "nbgrader": {
     "grade": true,
     "grade_id": "cell-8b677baf0aa575d5",
     "locked": false,
     "points": 1,
     "schema_version": 3,
     "solution": true,
     "task": false
    }
   },
   "source": [
    "### BEGIN SOLUTION\n",
    "Should be joule/m^2\n",
    "### END SOLUTION"
   ]
  },
  {
   "cell_type": "markdown",
   "metadata": {
    "nbgrader": {
     "grade": false,
     "grade_id": "cell-7bd15e4868791ae4",
     "locked": true,
     "schema_version": 3,
     "solution": false,
     "task": false
    }
   },
   "source": [
    "### Your turn\n",
    "Now we'll see about your prediction! Use Eq. 1 in the Introduction to calculate the *OLR* from variables sigma, kappa, and T, and print the result. Double-check that the units of your result are consistent with your prediction."
   ]
  },
  {
   "cell_type": "code",
   "execution_count": 9,
   "metadata": {
    "nbgrader": {
     "grade": true,
     "grade_id": "cell-e05291bd7fb73bc9",
     "locked": false,
     "points": 2,
     "schema_version": 3,
     "solution": true,
     "task": false
    }
   },
   "outputs": [
    {
     "name": "stdout",
     "output_type": "stream",
     "text": [
      "236.1995234026218 watt / meter ** 2\n"
     ]
    }
   ],
   "source": [
    "### BEGIN SOLUTION\n",
    "OLR = sigma*kappa*T**4\n",
    "print(OLR)\n",
    "### END SOLUTION"
   ]
  },
  {
   "cell_type": "markdown",
   "metadata": {
    "nbgrader": {
     "grade": false,
     "grade_id": "cell-befa79db2088abbf",
     "locked": true,
     "schema_version": 3,
     "solution": false,
     "task": false
    }
   },
   "source": [
    "### f-string printing\n",
    "It's sometimes handy to format print statements in a way that's a bit more descriptive than what we've been doing so far. One such method uses the f-string syntax, as shown below."
   ]
  },
  {
   "cell_type": "code",
   "execution_count": 10,
   "metadata": {},
   "outputs": [
    {
     "name": "stdout",
     "output_type": "stream",
     "text": [
      "sigma: 5.67e-08 watt / kelvin ** 4 / meter ** 2\n"
     ]
    }
   ],
   "source": [
    "print(f\"sigma: {sigma}\")"
   ]
  },
  {
   "cell_type": "markdown",
   "metadata": {
    "nbgrader": {
     "grade": false,
     "grade_id": "cell-5af69c5877fd7439",
     "locked": true,
     "schema_version": 3,
     "solution": false,
     "task": false
    }
   },
   "source": [
    "### Your turn\n",
    "In the cell below, print the temperature and the OLR using the f-string method."
   ]
  },
  {
   "cell_type": "code",
   "execution_count": 11,
   "metadata": {
    "nbgrader": {
     "grade": true,
     "grade_id": "cell-8d11944145cfa605",
     "locked": false,
     "points": 2,
     "schema_version": 3,
     "solution": true,
     "task": false
    }
   },
   "outputs": [
    {
     "name": "stdout",
     "output_type": "stream",
     "text": [
      "T: 287 kelvin\n",
      "OLR: 236.1995234026218 watt / meter ** 2\n"
     ]
    }
   ],
   "source": [
    "### BEGIN SOLUTION\n",
    "print(f\"T: {T}\")\n",
    "print(f\"OLR: {OLR}\")\n",
    "### END SOLUTION"
   ]
  },
  {
   "cell_type": "markdown",
   "metadata": {
    "nbgrader": {
     "grade": false,
     "grade_id": "cell-065a26fe35c05046",
     "locked": true,
     "schema_version": 3,
     "solution": false,
     "task": false
    }
   },
   "source": [
    "### Validating and finishing up\n",
    "Assuming all this has gone smoothly and a Kernel/Restart & Run All has run without error, don't forget to\n",
    "1. Close this notebook using the \"File/Close and Halt\" dropdown menu\n",
    "1. Using the Assignments tab, submit this notebook\n",
    "1. Press the Logout tab of the Home Page"
   ]
  }
 ],
 "metadata": {
  "celltoolbar": "Create Assignment",
  "kernelspec": {
   "display_name": "Python 3 (ipykernel)",
   "language": "python",
   "name": "python3"
  },
  "language_info": {
   "codemirror_mode": {
    "name": "ipython",
    "version": 3
   },
   "file_extension": ".py",
   "mimetype": "text/x-python",
   "name": "python",
   "nbconvert_exporter": "python",
   "pygments_lexer": "ipython3",
   "version": "3.10.2"
  }
 },
 "nbformat": 4,
 "nbformat_minor": 4
}
